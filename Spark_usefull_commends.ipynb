{
 "cells": [
  {
   "cell_type": "code",
   "execution_count": 2,
   "metadata": {},
   "outputs": [
    {
     "name": "stdout",
     "output_type": "stream",
     "text": [
      "hc-notebook6.hadoop-prod.pl-kra-3.dc4.local \r\n"
     ]
    }
   ],
   "source": [
    "## checking the host name\n",
    "!hostname -A "
   ]
  },
  {
   "cell_type": "code",
   "execution_count": 5,
   "metadata": {},
   "outputs": [
    {
     "name": "stdout",
     "output_type": "stream",
     "text": [
      "Mon Sep 10 10:21:03 CEST 2018\r\n"
     ]
    }
   ],
   "source": [
    "#Printing the dates\n",
    "! date"
   ]
  },
  {
   "cell_type": "code",
   "execution_count": 6,
   "metadata": {},
   "outputs": [
    {
     "name": "stdout",
     "output_type": "stream",
     "text": [
      "CPU times: user 0 ns, sys: 0 ns, total: 0 ns\n",
      "Wall time: 22.4 µs\n"
     ]
    }
   ],
   "source": [
    "## time of workinf\n",
    "%time "
   ]
  },
  {
   "cell_type": "code",
   "execution_count": 144,
   "metadata": {
    "collapsed": true
   },
   "outputs": [],
   "source": [
    "%matplotlib inline "
   ]
  },
  {
   "cell_type": "code",
   "execution_count": 9,
   "metadata": {},
   "outputs": [
    {
     "name": "stdout",
     "output_type": "stream",
     "text": [
      "The sparkver extension is already loaded. To reload it, use:\n",
      "  %reload_ext sparkver\n",
      "Spark version selected: 2.3.0, py4j version selected: 0.10.6\n"
     ]
    }
   ],
   "source": [
    "##running spark\n",
    "%load##importing usefull libraries\n",
    "from pyspark.sql.session import SparkSession\n",
    "from pyspark.sql.functions import *\n",
    "spark = (SparkSession.builder\n",
    "    .appName('warsztaty pyspark')\n",
    "    .config('spark.yarn.queue', 'logistics_prod')\n",
    "    .config('spark.executor.instances', 10)\n",
    "    .config('spark.executor.memory', '2g')\n",
    "    .config('spark.executor.cores', 4)\n",
    "    .config('spark.yarn.executor.memoryOverhead', '1024')\n",
    "    .config('spark.yarn.appMasterEnv.JAVA_HOME', '/opt/jre1.8.0')\n",
    "    .config('spark.executorEnv.JAVA_HOME', '/opt/jre1.8.0')\n",
    "    .config('spark.speculation', 'true')\n",
    "    .enableHiveSupport()\n",
    "    .getOrCreate())\n",
    "print('Application master: http://rm.hadoop.qxlint:8088/proxy/%s' % spark.sparkContext.applicationId)_ext sparkver\n",
    "%sparkver -s 2.3.0"
   ]
  },
  {
   "cell_type": "code",
   "execution_count": null,
   "metadata": {
    "collapsed": true
   },
   "outputs": [],
   "source": []
  },
  {
   "cell_type": "code",
   "execution_count": null,
   "metadata": {
    "collapsed": true
   },
   "outputs": [],
   "source": []
  }
 ],
 "metadata": {
  "kernelspec": {
   "display_name": "Python [default]",
   "language": "python",
   "name": "python3"
  },
  "language_info": {
   "codemirror_mode": {
    "name": "ipython",
    "version": 3
   },
   "file_extension": ".py",
   "mimetype": "text/x-python",
   "name": "python",
   "nbconvert_exporter": "python",
   "pygments_lexer": "ipython3",
   "version": "3.6.2"
  }
 },
 "nbformat": 4,
 "nbformat_minor": 2
}
